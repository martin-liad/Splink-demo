{
 "cells": [
  {
   "cell_type": "code",
   "execution_count": 1,
   "id": "fa671dd7",
   "metadata": {},
   "outputs": [],
   "source": [
    "# Execute this first, it creates multiple test data sets from a sample file."
   ]
  },
  {
   "cell_type": "code",
   "execution_count": 2,
   "id": "eb5ec080",
   "metadata": {},
   "outputs": [],
   "source": [
    "import numpy as np\n",
    "import pandas as pd"
   ]
  },
  {
   "cell_type": "markdown",
   "id": "eaa6c74e",
   "metadata": {},
   "source": [
    "Data\n",
    "=="
   ]
  },
  {
   "cell_type": "markdown",
   "id": "4146140a",
   "metadata": {},
   "source": [
    "Create directories\n",
    "--"
   ]
  },
  {
   "cell_type": "code",
   "execution_count": 3,
   "id": "ff2d83df",
   "metadata": {},
   "outputs": [],
   "source": [
    "%%capture\n",
    "!mkdir \"data/interim\"\n",
    "!mkdir \"data/processed\""
   ]
  },
  {
   "cell_type": "markdown",
   "id": "36557b82",
   "metadata": {},
   "source": [
    "Load & prepare test data\n",
    "--"
   ]
  },
  {
   "cell_type": "code",
   "execution_count": 4,
   "id": "5b045bcc",
   "metadata": {
    "scrolled": true
   },
   "outputs": [
    {
     "data": {
      "text/html": [
       "<div>\n",
       "<style scoped>\n",
       "    .dataframe tbody tr th:only-of-type {\n",
       "        vertical-align: middle;\n",
       "    }\n",
       "\n",
       "    .dataframe tbody tr th {\n",
       "        vertical-align: top;\n",
       "    }\n",
       "\n",
       "    .dataframe thead th {\n",
       "        text-align: right;\n",
       "    }\n",
       "</style>\n",
       "<table border=\"1\" class=\"dataframe\">\n",
       "  <thead>\n",
       "    <tr style=\"text-align: right;\">\n",
       "      <th></th>\n",
       "      <th>unique_id</th>\n",
       "      <th>cluster</th>\n",
       "      <th>full_name</th>\n",
       "      <th>first_and_surname</th>\n",
       "      <th>first_name</th>\n",
       "      <th>surname</th>\n",
       "      <th>dob</th>\n",
       "      <th>birth_place</th>\n",
       "      <th>postcode_fake</th>\n",
       "      <th>gender</th>\n",
       "      <th>occupation</th>\n",
       "    </tr>\n",
       "  </thead>\n",
       "  <tbody>\n",
       "    <tr>\n",
       "      <th>0</th>\n",
       "      <td>Q2296770-1</td>\n",
       "      <td>Q2296770</td>\n",
       "      <td>thomas clifford, 1st baron clifford of chudleigh</td>\n",
       "      <td>thomas chudleigh</td>\n",
       "      <td>thomas</td>\n",
       "      <td>chudleigh</td>\n",
       "      <td>1630-08-01</td>\n",
       "      <td>devon</td>\n",
       "      <td>tq13 8df</td>\n",
       "      <td>male</td>\n",
       "      <td>politician</td>\n",
       "    </tr>\n",
       "    <tr>\n",
       "      <th>1</th>\n",
       "      <td>Q2296770-2</td>\n",
       "      <td>Q2296770</td>\n",
       "      <td>thomas of chudleigh</td>\n",
       "      <td>thomas chudleigh</td>\n",
       "      <td>thomas</td>\n",
       "      <td>chudleigh</td>\n",
       "      <td>1630-08-01</td>\n",
       "      <td>devon</td>\n",
       "      <td>tq13 8df</td>\n",
       "      <td>male</td>\n",
       "      <td>politician</td>\n",
       "    </tr>\n",
       "    <tr>\n",
       "      <th>2</th>\n",
       "      <td>Q2296770-3</td>\n",
       "      <td>Q2296770</td>\n",
       "      <td>tom 1st baron clifford of chudleigh</td>\n",
       "      <td>tom chudleigh</td>\n",
       "      <td>tom</td>\n",
       "      <td>chudleigh</td>\n",
       "      <td>1630-08-01</td>\n",
       "      <td>devon</td>\n",
       "      <td>tq13 8df</td>\n",
       "      <td>male</td>\n",
       "      <td>politician</td>\n",
       "    </tr>\n",
       "    <tr>\n",
       "      <th>3</th>\n",
       "      <td>Q2296770-4</td>\n",
       "      <td>Q2296770</td>\n",
       "      <td>thomas 1st chudleigh</td>\n",
       "      <td>thomas chudleigh</td>\n",
       "      <td>thomas</td>\n",
       "      <td>chudleigh</td>\n",
       "      <td>1630-08-01</td>\n",
       "      <td>devon</td>\n",
       "      <td>tq13 8hu</td>\n",
       "      <td>None</td>\n",
       "      <td>politician</td>\n",
       "    </tr>\n",
       "    <tr>\n",
       "      <th>4</th>\n",
       "      <td>Q2296770-5</td>\n",
       "      <td>Q2296770</td>\n",
       "      <td>thomas clifford, 1st baron chudleigh</td>\n",
       "      <td>thomas chudleigh</td>\n",
       "      <td>thomas</td>\n",
       "      <td>chudleigh</td>\n",
       "      <td>1630-08-01</td>\n",
       "      <td>devon</td>\n",
       "      <td>tq13 8df</td>\n",
       "      <td>None</td>\n",
       "      <td>politician</td>\n",
       "    </tr>\n",
       "  </tbody>\n",
       "</table>\n",
       "</div>"
      ],
      "text/plain": [
       "    unique_id   cluster                                         full_name  \\\n",
       "0  Q2296770-1  Q2296770  thomas clifford, 1st baron clifford of chudleigh   \n",
       "1  Q2296770-2  Q2296770                               thomas of chudleigh   \n",
       "2  Q2296770-3  Q2296770               tom 1st baron clifford of chudleigh   \n",
       "3  Q2296770-4  Q2296770                              thomas 1st chudleigh   \n",
       "4  Q2296770-5  Q2296770              thomas clifford, 1st baron chudleigh   \n",
       "\n",
       "  first_and_surname first_name    surname         dob birth_place  \\\n",
       "0  thomas chudleigh     thomas  chudleigh  1630-08-01       devon   \n",
       "1  thomas chudleigh     thomas  chudleigh  1630-08-01       devon   \n",
       "2     tom chudleigh        tom  chudleigh  1630-08-01       devon   \n",
       "3  thomas chudleigh     thomas  chudleigh  1630-08-01       devon   \n",
       "4  thomas chudleigh     thomas  chudleigh  1630-08-01       devon   \n",
       "\n",
       "  postcode_fake gender  occupation  \n",
       "0      tq13 8df   male  politician  \n",
       "1      tq13 8df   male  politician  \n",
       "2      tq13 8df   male  politician  \n",
       "3      tq13 8hu   None  politician  \n",
       "4      tq13 8df   None  politician  "
      ]
     },
     "execution_count": 4,
     "metadata": {},
     "output_type": "execute_result"
    }
   ],
   "source": [
    "# From Splink example data.\n",
    "# https://github.com/moj-analytical-services/splink_demos/tree/master/data\n",
    "d = pd.read_parquet('data/raw/historical_figures_with_errors_50k.parquet')\n",
    "d.head()"
   ]
  },
  {
   "cell_type": "code",
   "execution_count": 5,
   "id": "1c251915",
   "metadata": {},
   "outputs": [
    {
     "data": {
      "text/plain": [
       "segment\n",
       "1    12727\n",
       "3    12696\n",
       "4    12671\n",
       "2    12484\n",
       "Name: count, dtype: int64"
      ]
     },
     "execution_count": 5,
     "metadata": {},
     "output_type": "execute_result"
    }
   ],
   "source": [
    "# Feature vector\n",
    "features = d.rename(columns={\n",
    "    'birth_place': 'city',\n",
    "    'postcode_fake': 'postcode'\n",
    "})[[\n",
    "    'unique_id', \n",
    "\n",
    "    # Address\n",
    "    'city', 'postcode', \n",
    "    \n",
    "    # Name columns\n",
    "    'full_name', 'first_and_surname', 'first_name', 'surname', \n",
    "    \n",
    "    # Other info\n",
    "    'dob', 'gender',\n",
    "    \n",
    "    # For eval\n",
    "    'cluster', \n",
    "]]\n",
    "\n",
    "# Randomly assign records to a table for our match\n",
    "features['segment'] = np.random.randint(0,4, size=len(d)) + 1\n",
    "\n",
    "# Summary\n",
    "features.segment.value_counts()"
   ]
  },
  {
   "cell_type": "code",
   "execution_count": 6,
   "id": "3a071d7e",
   "metadata": {},
   "outputs": [
    {
     "data": {
      "text/html": [
       "<div>\n",
       "<style scoped>\n",
       "    .dataframe tbody tr th:only-of-type {\n",
       "        vertical-align: middle;\n",
       "    }\n",
       "\n",
       "    .dataframe tbody tr th {\n",
       "        vertical-align: top;\n",
       "    }\n",
       "\n",
       "    .dataframe thead th {\n",
       "        text-align: right;\n",
       "    }\n",
       "</style>\n",
       "<table border=\"1\" class=\"dataframe\">\n",
       "  <thead>\n",
       "    <tr style=\"text-align: right;\">\n",
       "      <th></th>\n",
       "      <th>unique_id</th>\n",
       "      <th>city</th>\n",
       "      <th>postcode</th>\n",
       "      <th>full_name</th>\n",
       "      <th>first_and_surname</th>\n",
       "      <th>first_name</th>\n",
       "      <th>surname</th>\n",
       "      <th>dob</th>\n",
       "      <th>gender</th>\n",
       "      <th>cluster</th>\n",
       "      <th>segment</th>\n",
       "    </tr>\n",
       "  </thead>\n",
       "  <tbody>\n",
       "    <tr>\n",
       "      <th>0</th>\n",
       "      <td>Q2296770-1</td>\n",
       "      <td>devon</td>\n",
       "      <td>tq13 8df</td>\n",
       "      <td>thomas clifford, 1st baron clifford of chudleigh</td>\n",
       "      <td>thomas chudleigh</td>\n",
       "      <td>thomas</td>\n",
       "      <td>chudleigh</td>\n",
       "      <td>1630-08-01</td>\n",
       "      <td>male</td>\n",
       "      <td>Q2296770</td>\n",
       "      <td>3</td>\n",
       "    </tr>\n",
       "    <tr>\n",
       "      <th>1</th>\n",
       "      <td>Q2296770-2</td>\n",
       "      <td>devon</td>\n",
       "      <td>tq13 8df</td>\n",
       "      <td>thomas of chudleigh</td>\n",
       "      <td>thomas chudleigh</td>\n",
       "      <td>thomas</td>\n",
       "      <td>chudleigh</td>\n",
       "      <td>1630-08-01</td>\n",
       "      <td>male</td>\n",
       "      <td>Q2296770</td>\n",
       "      <td>3</td>\n",
       "    </tr>\n",
       "    <tr>\n",
       "      <th>2</th>\n",
       "      <td>Q2296770-3</td>\n",
       "      <td>devon</td>\n",
       "      <td>tq13 8df</td>\n",
       "      <td>tom 1st baron clifford of chudleigh</td>\n",
       "      <td>tom chudleigh</td>\n",
       "      <td>tom</td>\n",
       "      <td>chudleigh</td>\n",
       "      <td>1630-08-01</td>\n",
       "      <td>male</td>\n",
       "      <td>Q2296770</td>\n",
       "      <td>1</td>\n",
       "    </tr>\n",
       "    <tr>\n",
       "      <th>3</th>\n",
       "      <td>Q2296770-4</td>\n",
       "      <td>devon</td>\n",
       "      <td>tq13 8hu</td>\n",
       "      <td>thomas 1st chudleigh</td>\n",
       "      <td>thomas chudleigh</td>\n",
       "      <td>thomas</td>\n",
       "      <td>chudleigh</td>\n",
       "      <td>1630-08-01</td>\n",
       "      <td>None</td>\n",
       "      <td>Q2296770</td>\n",
       "      <td>3</td>\n",
       "    </tr>\n",
       "    <tr>\n",
       "      <th>4</th>\n",
       "      <td>Q2296770-5</td>\n",
       "      <td>devon</td>\n",
       "      <td>tq13 8df</td>\n",
       "      <td>thomas clifford, 1st baron chudleigh</td>\n",
       "      <td>thomas chudleigh</td>\n",
       "      <td>thomas</td>\n",
       "      <td>chudleigh</td>\n",
       "      <td>1630-08-01</td>\n",
       "      <td>None</td>\n",
       "      <td>Q2296770</td>\n",
       "      <td>2</td>\n",
       "    </tr>\n",
       "  </tbody>\n",
       "</table>\n",
       "</div>"
      ],
      "text/plain": [
       "    unique_id   city  postcode  \\\n",
       "0  Q2296770-1  devon  tq13 8df   \n",
       "1  Q2296770-2  devon  tq13 8df   \n",
       "2  Q2296770-3  devon  tq13 8df   \n",
       "3  Q2296770-4  devon  tq13 8hu   \n",
       "4  Q2296770-5  devon  tq13 8df   \n",
       "\n",
       "                                          full_name first_and_surname  \\\n",
       "0  thomas clifford, 1st baron clifford of chudleigh  thomas chudleigh   \n",
       "1                               thomas of chudleigh  thomas chudleigh   \n",
       "2               tom 1st baron clifford of chudleigh     tom chudleigh   \n",
       "3                              thomas 1st chudleigh  thomas chudleigh   \n",
       "4              thomas clifford, 1st baron chudleigh  thomas chudleigh   \n",
       "\n",
       "  first_name    surname         dob gender   cluster  segment  \n",
       "0     thomas  chudleigh  1630-08-01   male  Q2296770        3  \n",
       "1     thomas  chudleigh  1630-08-01   male  Q2296770        3  \n",
       "2        tom  chudleigh  1630-08-01   male  Q2296770        1  \n",
       "3     thomas  chudleigh  1630-08-01   None  Q2296770        3  \n",
       "4     thomas  chudleigh  1630-08-01   None  Q2296770        2  "
      ]
     },
     "execution_count": 6,
     "metadata": {},
     "output_type": "execute_result"
    }
   ],
   "source": [
    "features.head()"
   ]
  },
  {
   "cell_type": "markdown",
   "id": "f28b8db3",
   "metadata": {},
   "source": [
    "Export\n",
    "--"
   ]
  },
  {
   "cell_type": "code",
   "execution_count": 7,
   "id": "788ea078",
   "metadata": {},
   "outputs": [],
   "source": [
    "# Including any duplicates\n",
    "for segment in features.segment.unique():\n",
    "    table = features[features.segment==segment].drop(columns='segment')\n",
    "    table.to_csv(f'data/interim/table{segment}_with_duplicates.csv', index=False)"
   ]
  },
  {
   "cell_type": "code",
   "execution_count": 8,
   "id": "5d1ed9ad",
   "metadata": {},
   "outputs": [
    {
     "data": {
      "text/plain": [
       "segment\n",
       "1    4413\n",
       "3    4408\n",
       "2    4404\n",
       "4    4400\n",
       "Name: count, dtype: int64"
      ]
     },
     "execution_count": 8,
     "metadata": {},
     "output_type": "execute_result"
    }
   ],
   "source": [
    "# Only keep one record per table and cluster -- no duplicates\n",
    "features = features.drop_duplicates(subset=['segment', 'cluster'])\n",
    "features.segment.value_counts()"
   ]
  },
  {
   "cell_type": "code",
   "execution_count": 9,
   "id": "1c2d4aee",
   "metadata": {},
   "outputs": [],
   "source": [
    "# No duplicates\n",
    "for segment in features.segment.unique():\n",
    "    table = features[features.segment==segment].drop(columns='segment')\n",
    "    table.to_csv(f'data/interim/table{segment}.csv', index=False)"
   ]
  },
  {
   "cell_type": "code",
   "execution_count": null,
   "id": "d7891399",
   "metadata": {},
   "outputs": [],
   "source": []
  }
 ],
 "metadata": {
  "kernelspec": {
   "display_name": "Python 3 (ipykernel)",
   "language": "python",
   "name": "python3"
  },
  "language_info": {
   "codemirror_mode": {
    "name": "ipython",
    "version": 3
   },
   "file_extension": ".py",
   "mimetype": "text/x-python",
   "name": "python",
   "nbconvert_exporter": "python",
   "pygments_lexer": "ipython3",
   "version": "3.9.13"
  }
 },
 "nbformat": 4,
 "nbformat_minor": 5
}
